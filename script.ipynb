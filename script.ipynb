{
 "cells": [
  {
   "cell_type": "markdown",
   "metadata": {},
   "source": [
    "https://www.kaggle.com/zephyrwang666/riiid-lgbm-bagging2-1"
   ]
  },
  {
   "cell_type": "code",
   "execution_count": 1,
   "metadata": {},
   "outputs": [
    {
     "data": {
      "text/html": [
       "<style type='text/css'>\n",
       ".datatable table.frame { margin-bottom: 0; }\n",
       ".datatable table.frame thead { border-bottom: none; }\n",
       ".datatable table.frame tr.coltypes td {  color: #FFFFFF;  line-height: 6px;  padding: 0 0.5em;}\n",
       ".datatable .bool    { background: #DDDD99; }\n",
       ".datatable .object  { background: #565656; }\n",
       ".datatable .int     { background: #5D9E5D; }\n",
       ".datatable .float   { background: #4040CC; }\n",
       ".datatable .str     { background: #CC4040; }\n",
       ".datatable .row_index {  background: var(--jp-border-color3);  border-right: 1px solid var(--jp-border-color0);  color: var(--jp-ui-font-color3);  font-size: 9px;}\n",
       ".datatable .frame tr.coltypes .row_index {  background: var(--jp-border-color0);}\n",
       ".datatable th:nth-child(2) { padding-left: 12px; }\n",
       ".datatable .hellipsis {  color: var(--jp-cell-editor-border-color);}\n",
       ".datatable .vellipsis {  background: var(--jp-layout-color0);  color: var(--jp-cell-editor-border-color);}\n",
       ".datatable .na {  color: var(--jp-cell-editor-border-color);  font-size: 80%;}\n",
       ".datatable .footer { font-size: 9px; }\n",
       ".datatable .frame_dimensions {  background: var(--jp-border-color3);  border-top: 1px solid var(--jp-border-color0);  color: var(--jp-ui-font-color3);  display: inline-block;  opacity: 0.6;  padding: 1px 10px 1px 5px;}\n",
       ".datatable .frame thead tr.colnames {  background-image: url('data:image/png;base64,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');  background-repeat: repeat-x;  background-size: 14px;  height: 28px;}\n",
       "</style>\n"
      ],
      "text/plain": [
       "<IPython.core.display.HTML object>"
      ]
     },
     "metadata": {},
     "output_type": "display_data"
    }
   ],
   "source": [
    "# Decide whether or not running on Kaggle\n",
    "import os\n",
    "KAGGLE_RUN = True\n",
    "if os.path.isdir('/home/ubuntu'):\n",
    "    KAGGLE_RUN = False\n",
    "    \n",
    "if KAGGLE_RUN:\n",
    "    model_name = 'riiid-test-model/test_model3.txt'\n",
    "else:\n",
    "    model_name = 'test_model3.txt'\n",
    "    \n",
    "# Libraries\n",
    "import pandas as pd\n",
    "import numpy as np\n",
    "import gc\n",
    "from sklearn.metrics import roc_auc_score\n",
    "from collections import defaultdict\n",
    "import lightgbm as lgb\n",
    "import random\n",
    "if not KAGGLE_RUN:\n",
    "    import sys\n",
    "    sys.path.insert(0, './input')\n",
    "    import local_work\n",
    "import riiideducation\n",
    "\n",
    "# Boto3 Setup and Download Files\n",
    "if not KAGGLE_RUN:\n",
    "    local_work = local_work.local_work()\n",
    "    local_work.download_riiid_files()\n",
    "\n",
    "# Set seed\n",
    "SEED = 0\n",
    "random.seed(SEED)\n",
    "np.random.seed(SEED)\n",
    "os.environ['PYTHONHASHSEED'] = str(SEED)\n",
    "    \n",
    "# Define data for train.csv\n",
    "data_types_dict = {\n",
    "    'user_id': 'int32', \n",
    "    'content_id': 'int16', \n",
    "    'answered_correctly': 'int8', \n",
    "    'prior_question_elapsed_time': 'float32', \n",
    "    'prior_question_had_explanation': 'bool'\n",
    "}\n",
    "target = 'answered_correctly'\n",
    "\n",
    "# Load data\n",
    "if not KAGGLE_RUN:\n",
    "    df_train = local_work.get_train_data(data_types_dict)\n",
    "    #df_train = local_work.get_train_data(data_types_dict, nrow=10000000)\n",
    "    df_questions = local_work.get_questions_data()\n",
    "else:\n",
    "    import datatable as dt\n",
    "    df_train = dt.fread('../input/riiid-test-answer-prediction/train.csv'\n",
    "                        ,columns=set(data_types_dict.keys())).to_pandas()\n",
    "    df_questions = pd.read_csv('../input/riiid-test-answer-prediction/questions.csv'\n",
    "                                ,usecols=[0, 3]\n",
    "                                ,dtype={'question_id': 'int16', 'part': 'int8'}\n",
    "                               )"
   ]
  },
  {
   "cell_type": "code",
   "execution_count": 2,
   "metadata": {},
   "outputs": [],
   "source": [
    "# Get rid of lecture rows\n",
    "df_train = df_train[df_train[target] != -1].reset_index(drop=True)\n",
    "\n",
    "# NA For a users first question bundle or lecture\n",
    "df_train['prior_question_had_explanation'].fillna(False, inplace=True)\n",
    "\n",
    "# Make data types\n",
    "df_train = df_train.astype(data_types_dict)"
   ]
  },
  {
   "cell_type": "code",
   "execution_count": 3,
   "metadata": {},
   "outputs": [],
   "source": [
    "# Running average of accuracy on users answer correctness\n",
    "df_train['prev_correct'] = df_train.groupby('user_id')[target].shift()\n",
    "cum = df_train.groupby('user_id')['prev_correct'].agg(['cumsum', 'cumcount'])\n",
    "df_train['user_correctness'] = cum['cumsum'] / cum['cumcount']\n",
    "df_train.drop(columns=['prev_correct'], inplace=True)"
   ]
  },
  {
   "cell_type": "code",
   "execution_count": 4,
   "metadata": {},
   "outputs": [],
   "source": [
    "# User/Content aggregates of number of questions and how many where answered correctly\n",
    "user_agg = df_train.groupby('user_id')[target].agg(['sum', 'count'])\n",
    "content_agg = df_train.groupby('content_id')[target].agg(['sum', 'count'])\n",
    "\n",
    "# Keep only the 24 most recent rows for each user\n",
    "df_train = df_train.groupby('user_id').tail(24).reset_index(drop=True)"
   ]
  },
  {
   "cell_type": "code",
   "execution_count": 5,
   "metadata": {},
   "outputs": [],
   "source": [
    "# Merge questions frame to train\n",
    "df_train = pd.merge(df_train, df_questions, left_on='content_id', right_on='question_id', how='left')\n",
    "df_train.drop(columns=['question_id'], inplace=True)"
   ]
  },
  {
   "cell_type": "code",
   "execution_count": 6,
   "metadata": {},
   "outputs": [],
   "source": [
    "# Left join content count and average correctness to each row\n",
    "df_train['content_count'] = df_train['content_id'].map(content_agg['count']).astype('int32')\n",
    "df_train['content_avg_correctness'] = df_train['content_id'].map(content_agg['sum'] / content_agg['count'])"
   ]
  },
  {
   "cell_type": "code",
   "execution_count": 7,
   "metadata": {},
   "outputs": [
    {
     "name": "stdout",
     "output_type": "stream",
     "text": [
      "[LightGBM] [Info] Number of positive: 3602877, number of negative: 2933798\n",
      "[LightGBM] [Warning] Auto-choosing row-wise multi-threading, the overhead of testing was 0.050319 seconds.\n",
      "You can set `force_row_wise=true` to remove the overhead.\n",
      "And if memory is not enough, you can set `force_col_wise=true`.\n",
      "[LightGBM] [Info] Total Bins 3068\n",
      "[LightGBM] [Info] Number of data points in the train set: 6536675, number of used features: 6\n",
      "[LightGBM] [Info] [binary:BoostFromScore]: pavg=0.551179 -> initscore=0.205435\n",
      "[LightGBM] [Info] Start training from score 0.205435\n",
      "Training until validation scores don't improve for 50 rounds\n",
      "[50]\ttraining's auc: 0.751093\tvalid_1's auc: 0.733432\n",
      "[100]\ttraining's auc: 0.752706\tvalid_1's auc: 0.735453\n",
      "[150]\ttraining's auc: 0.753337\tvalid_1's auc: 0.736056\n",
      "[200]\ttraining's auc: 0.753669\tvalid_1's auc: 0.736295\n",
      "[250]\ttraining's auc: 0.753936\tvalid_1's auc: 0.736444\n",
      "[300]\ttraining's auc: 0.754161\tvalid_1's auc: 0.736561\n",
      "[350]\ttraining's auc: 0.754374\tvalid_1's auc: 0.736686\n",
      "[400]\ttraining's auc: 0.754555\tvalid_1's auc: 0.736762\n",
      "[450]\ttraining's auc: 0.754776\tvalid_1's auc: 0.736881\n",
      "[500]\ttraining's auc: 0.754958\tvalid_1's auc: 0.736951\n",
      "[550]\ttraining's auc: 0.755138\tvalid_1's auc: 0.737024\n",
      "[600]\ttraining's auc: 0.755309\tvalid_1's auc: 0.737093\n",
      "[650]\ttraining's auc: 0.755436\tvalid_1's auc: 0.737118\n",
      "[700]\ttraining's auc: 0.755597\tvalid_1's auc: 0.737158\n",
      "[750]\ttraining's auc: 0.75574\tvalid_1's auc: 0.737183\n",
      "[800]\ttraining's auc: 0.755889\tvalid_1's auc: 0.737224\n",
      "[850]\ttraining's auc: 0.756028\tvalid_1's auc: 0.737254\n",
      "[900]\ttraining's auc: 0.756174\tvalid_1's auc: 0.737298\n",
      "[950]\ttraining's auc: 0.75632\tvalid_1's auc: 0.737328\n",
      "[1000]\ttraining's auc: 0.75646\tvalid_1's auc: 0.737352\n",
      "[1050]\ttraining's auc: 0.756604\tvalid_1's auc: 0.737375\n",
      "[1100]\ttraining's auc: 0.756721\tvalid_1's auc: 0.73739\n",
      "[1150]\ttraining's auc: 0.75685\tvalid_1's auc: 0.737402\n",
      "[1200]\ttraining's auc: 0.756959\tvalid_1's auc: 0.73741\n",
      "[1250]\ttraining's auc: 0.75708\tvalid_1's auc: 0.73743\n",
      "[1300]\ttraining's auc: 0.757214\tvalid_1's auc: 0.737453\n",
      "[1350]\ttraining's auc: 0.757339\tvalid_1's auc: 0.73747\n",
      "[1400]\ttraining's auc: 0.757463\tvalid_1's auc: 0.737476\n",
      "[1450]\ttraining's auc: 0.757585\tvalid_1's auc: 0.737487\n",
      "[1500]\ttraining's auc: 0.757712\tvalid_1's auc: 0.737505\n",
      "[1550]\ttraining's auc: 0.757835\tvalid_1's auc: 0.737522\n",
      "[1600]\ttraining's auc: 0.757956\tvalid_1's auc: 0.737533\n",
      "[1650]\ttraining's auc: 0.75807\tvalid_1's auc: 0.737539\n",
      "[1700]\ttraining's auc: 0.758191\tvalid_1's auc: 0.737551\n",
      "[1750]\ttraining's auc: 0.758309\tvalid_1's auc: 0.737559\n",
      "[1800]\ttraining's auc: 0.758449\tvalid_1's auc: 0.737585\n",
      "[1850]\ttraining's auc: 0.758561\tvalid_1's auc: 0.737595\n",
      "[1900]\ttraining's auc: 0.758677\tvalid_1's auc: 0.737608\n",
      "[1950]\ttraining's auc: 0.758782\tvalid_1's auc: 0.737615\n",
      "[2000]\ttraining's auc: 0.75889\tvalid_1's auc: 0.737622\n",
      "[2050]\ttraining's auc: 0.75899\tvalid_1's auc: 0.737633\n",
      "[2100]\ttraining's auc: 0.759107\tvalid_1's auc: 0.737647\n",
      "[2150]\ttraining's auc: 0.759224\tvalid_1's auc: 0.737656\n",
      "[2200]\ttraining's auc: 0.759346\tvalid_1's auc: 0.737668\n",
      "[2250]\ttraining's auc: 0.759478\tvalid_1's auc: 0.737683\n",
      "[2300]\ttraining's auc: 0.759587\tvalid_1's auc: 0.737688\n",
      "[2350]\ttraining's auc: 0.759707\tvalid_1's auc: 0.737702\n",
      "[2400]\ttraining's auc: 0.759821\tvalid_1's auc: 0.737711\n",
      "[2450]\ttraining's auc: 0.759931\tvalid_1's auc: 0.737716\n",
      "[2500]\ttraining's auc: 0.760015\tvalid_1's auc: 0.737719\n",
      "[2550]\ttraining's auc: 0.760127\tvalid_1's auc: 0.737726\n",
      "[2600]\ttraining's auc: 0.760228\tvalid_1's auc: 0.737726\n",
      "[2650]\ttraining's auc: 0.760332\tvalid_1's auc: 0.737733\n",
      "[2700]\ttraining's auc: 0.760436\tvalid_1's auc: 0.737737\n",
      "Early stopping, best iteration is:\n",
      "[2687]\ttraining's auc: 0.760416\tvalid_1's auc: 0.737738\n"
     ]
    },
    {
     "data": {
      "image/png": "[encoded data removed]",
      "text/plain": [
       "<Figure size 432x288 with 1 Axes>"
      ]
     },
     "metadata": {
      "needs_background": "light"
     },
     "output_type": "display_data"
    }
   ],
   "source": [
    "# Define validation set as the 6 most recent interactions\n",
    "df_valid = df_train.groupby('user_id').tail(6)\n",
    "df_train.drop(df_valid.index, inplace=True)\n",
    "\n",
    "features = [\n",
    "    'content_avg_correctness',\n",
    "    'prior_question_elapsed_time',\n",
    "    'prior_question_had_explanation',\n",
    "    'user_correctness',\n",
    "    'part',\n",
    "    'content_count'\n",
    "]\n",
    "\n",
    "if not KAGGLE_RUN:\n",
    "    model = local_work.make_model(df_train, df_valid, target, features)\n",
    "    model.save_model(f'./output/' + model_name)\n",
    "    lgb.plot_importance(model, importance_type='gain')\n",
    "else:\n",
    "    model = lgb.Booster(model_file='/kaggle/input/' + model_name)"
   ]
  },
  {
   "cell_type": "code",
   "execution_count": 8,
   "metadata": {},
   "outputs": [],
   "source": [
    "# Setup dicts\n",
    "user_sum_dict = user_agg['sum'].astype('int16').to_dict(defaultdict(int))\n",
    "user_count_dict = user_agg['count'].astype('int16').to_dict(defaultdict(int))\n",
    "content_sum_dict = content_agg['sum'].astype('int32').to_dict(defaultdict(int))\n",
    "content_count_dict = content_agg['count'].astype('int32').to_dict(defaultdict(int))\n",
    "\n",
    "# Make env\n",
    "env = riiideducation.make_env()\n",
    "iter_test = env.iter_test()\n",
    "df_prior_test = None"
   ]
  },
  {
   "cell_type": "code",
   "execution_count": 9,
   "metadata": {},
   "outputs": [
    {
     "name": "stdout",
     "output_type": "stream",
     "text": [
      "Finished\n"
     ]
    },
    {
     "name": "stderr",
     "output_type": "stream",
     "text": [
      "/home/ubuntu/kaggle_riiid/venv/lib/python3.7/site-packages/ipykernel_launcher.py:41: RuntimeWarning: invalid value encountered in true_divide\n"
     ]
    }
   ],
   "source": [
    "# Make predictions\n",
    "for (df_test, df_sample_prediction) in iter_test:\n",
    "    if df_prior_test is not None:\n",
    "        df_prior_test[target] = eval(df_test['prior_group_answers_correct'].iloc[0])\n",
    "        df_prior_test = df_prior_test[df_prior_test[target] != -1].reset_index(drop=True)\n",
    "\n",
    "        user_ids = df_prior_test['user_id'].values\n",
    "        content_ids = df_prior_test['content_id'].values\n",
    "        targets = df_prior_test[target].values\n",
    "\n",
    "        for user_id, content_id, answered_correctly in zip(user_ids, content_ids, targets):\n",
    "            user_sum_dict[user_id] += answered_correctly\n",
    "            user_count_dict[user_id] += 1\n",
    "            content_sum_dict[content_id] += answered_correctly\n",
    "            content_count_dict[content_id] += 1\n",
    "\n",
    "    df_prior_test = df_test.copy()\n",
    "\n",
    "    # Only keep questions posed to user\n",
    "    df_test = df_test[df_test['content_type_id'] == 0].reset_index(drop=True)\n",
    "    \n",
    "    # Merge questions\n",
    "    df_test = pd.merge(df_test, df_questions, left_on='content_id', right_on='question_id', how='left')\n",
    "    \n",
    "    # Fill NA and make boolean\n",
    "    df_test['prior_question_had_explanation'] = df_test['prior_question_had_explanation']\\\n",
    "                                                    .fillna(False).astype('bool')    \n",
    "\n",
    "    # Initialize\n",
    "    user_sum = np.zeros(len(df_test), dtype=np.int16)\n",
    "    user_count = np.zeros(len(df_test), dtype=np.int16)\n",
    "    content_sum = np.zeros(len(df_test), dtype=np.int32)\n",
    "    content_count = np.zeros(len(df_test), dtype=np.int32)\n",
    "\n",
    "    for i, (user_id, content_id) in enumerate(zip(df_test['user_id'].values, df_test['content_id'].values)):\n",
    "        user_sum[i] = user_sum_dict[user_id]\n",
    "        user_count[i] = user_count_dict[user_id]\n",
    "        content_sum[i] = content_sum_dict[content_id]\n",
    "        content_count[i] = content_count_dict[content_id]\n",
    "\n",
    "    df_test['user_correctness'] = user_sum / user_count\n",
    "    df_test['content_count'] = content_count\n",
    "    df_test['content_avg_correctness'] = content_sum / content_count\n",
    "\n",
    "    df_test[target] = model.predict(df_test[features])\n",
    "    env.predict(df_test[['row_id', target]])\n",
    "print(\"Finished\")"
   ]
  }
 ],
 "metadata": {
  "kernelspec": {
   "display_name": "riiid",
   "language": "python",
   "name": "riiid"
  },
  "language_info": {
   "codemirror_mode": {
    "name": "ipython",
    "version": 3
   },
   "file_extension": ".py",
   "mimetype": "text/x-python",
   "name": "python",
   "nbconvert_exporter": "python",
   "pygments_lexer": "ipython3",
   "version": "3.7.9"
  }
 },
 "nbformat": 4,
 "nbformat_minor": 4
}
