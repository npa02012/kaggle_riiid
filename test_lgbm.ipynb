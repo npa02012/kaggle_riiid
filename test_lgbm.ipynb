{
 "cells": [
  {
   "cell_type": "markdown",
   "metadata": {},
   "source": [
    "#### Download RIIID Package"
   ]
  },
  {
   "cell_type": "code",
   "execution_count": 2,
   "metadata": {},
   "outputs": [],
   "source": [
    "# Setup\n",
    "import boto3\n",
    "s3_session = boto3.Session()\n",
    "s3_client = boto3.client('s3')\n",
    "s3_resource = boto3.resource('s3')\n",
    "bucket_name = 'npa02012-main'\n",
    "s3_bucket = s3_resource.Bucket(bucket_name)\n",
    "\n",
    "# Download\n",
    "s3_client.download_file(bucket_name\n",
    "                        ,'kaggle_data/riiid-test-answer-prediction/riiideducation/__init__.py'\n",
    "                        ,'./input/riiideducation/__init__.py')\n",
    "tmp = 'competition.cpython-37m-x86_64-linux-gnu.so'\n",
    "s3_client.download_file(bucket_name\n",
    "                        ,'kaggle_data/riiid-test-answer-prediction/riiideducation/' + tmp\n",
    "                        ,'./input/riiideducation/' + tmp)"
   ]
  },
  {
   "cell_type": "markdown",
   "metadata": {},
   "source": [
    "#### Setup"
   ]
  },
  {
   "cell_type": "code",
   "execution_count": 6,
   "metadata": {},
   "outputs": [],
   "source": [
    "# Libraries\n",
    "import pandas as pd\n",
    "import numpy as np\n",
    "import gc\n",
    "from sklearn.metrics import roc_auc_score\n",
    "from collections import defaultdict\n",
    "import lightgbm as lgb\n",
    "import random\n",
    "import os\n",
    "# Import riiideducation\n",
    "import sys\n",
    "sys.path.insert(0, './input')\n",
    "import riiideducation\n",
    "\n",
    "# Set seed\n",
    "SEED = 0\n",
    "random.seed(SEED)\n",
    "np.random.seed(SEED)\n",
    "os.environ['PYTHONHASHSEED'] = str(SEED)"
   ]
  },
  {
   "cell_type": "markdown",
   "metadata": {},
   "source": [
    "#### Load Tables"
   ]
  },
  {
   "cell_type": "code",
   "execution_count": null,
   "metadata": {},
   "outputs": [],
   "source": []
  }
 ],
 "metadata": {
  "kernelspec": {
   "display_name": "riiid",
   "language": "python",
   "name": "riiid"
  },
  "language_info": {
   "codemirror_mode": {
    "name": "ipython",
    "version": 3
   },
   "file_extension": ".py",
   "mimetype": "text/x-python",
   "name": "python",
   "nbconvert_exporter": "python",
   "pygments_lexer": "ipython3",
   "version": "3.7.9"
  }
 },
 "nbformat": 4,
 "nbformat_minor": 4
}
